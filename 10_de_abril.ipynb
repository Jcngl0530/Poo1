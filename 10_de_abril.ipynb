{
  "nbformat": 4,
  "nbformat_minor": 0,
  "metadata": {
    "colab": {
      "provenance": []
    },
    "kernelspec": {
      "name": "python3",
      "display_name": "Python 3"
    },
    "language_info": {
      "name": "python"
    }
  },
  "cells": [
    {
      "cell_type": "code",
      "execution_count": 1,
      "metadata": {
        "id": "FyqQjOXtRq18"
      },
      "outputs": [],
      "source": [
        "class Figura:\n",
        "\n",
        "\n",
        "\n",
        "    def __init__(self,nombre):\n",
        "\n",
        "        self.nombre = nombre\n",
        "\n",
        "        self.area = None\n",
        "\n",
        "        self.perimetro = None\n",
        "\n",
        "\n",
        "\n",
        "    def calcular_area(self):\n",
        "\n",
        "        pass\n",
        "\n",
        "\n",
        "\n",
        "    def calcular_perimetro(self):\n",
        "\n",
        "        pass\n",
        "\n",
        "\n",
        "\n",
        "    def mostrarInfo(self):\n",
        "\n",
        "        self.calcular_area()\n",
        "\n",
        "        self.calcular_area()\n",
        "\n",
        "        print(f\"Nombre de la figura {self.nombre}\")\n",
        "\n",
        "        print(f\"Área de la figura {self.area}\")\n",
        "\n",
        "        print(f\"Perímetro de la figura {self.perimetro}\")\n",
        "\n",
        "\n",
        "\n",
        "class Circulo(Figura):\n",
        "\n",
        "    def __init__(self, nombre, radio):\n",
        "\n",
        "        super().__init__(nombre)\n",
        "\n",
        "        self.radio = radio\n",
        "\n",
        "\n",
        "\n",
        "    def calcular_area(self):\n",
        "\n",
        "        return math.pi * self.radio**2\n",
        "\n",
        "\n",
        "\n",
        "\n",
        "\n",
        "    def calcular_perimetro(self):\n",
        "\n",
        "        return 2 * math.pi * self.radio\n",
        "\n"
      ]
    },
    {
      "cell_type": "code",
      "source": [
        "fig= Figura(\"cuadrado\")\n",
        "fig.mostrarInfo()"
      ],
      "metadata": {
        "colab": {
          "base_uri": "https://localhost:8080/"
        },
        "id": "dpxBp1SCRxlz",
        "outputId": "7765a295-2ff9-4046-d1e1-ec1a6d62bb96"
      },
      "execution_count": 2,
      "outputs": [
        {
          "output_type": "stream",
          "name": "stdout",
          "text": [
            "Nombre de la figura cuadrado\n",
            "Área de la figura None\n",
            "Perímetro de la figura None\n"
          ]
        }
      ]
    }
  ]
}