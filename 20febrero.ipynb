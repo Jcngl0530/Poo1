{
  "nbformat": 4,
  "nbformat_minor": 0,
  "metadata": {
    "colab": {
      "provenance": []
    },
    "kernelspec": {
      "name": "python3",
      "display_name": "Python 3"
    },
    "language_info": {
      "name": "python"
    }
  },
  "cells": [
    {
      "cell_type": "code",
      "execution_count": null,
      "metadata": {
        "id": "1aRykZlKCRjr"
      },
      "outputs": [],
      "source": []
    },
    {
      "cell_type": "markdown",
      "source": [
        "###Ejemplo del uso de la probabilidad clasico\n",
        "Tenemos el siguiente experimentos. Lanzamos dos dados honestos.\n",
        "$$\\Omega = \\{1,2,3,4,5,6\\}\\times \\{1,2,3,4,5,6\\}$$"
      ],
      "metadata": {
        "id": "u759wsrdCdPw"
      }
    },
    {
      "cell_type": "code",
      "source": [
        "import itertools\n",
        "from itertools import product\n",
        "Omega = set(product({1,2,3,4,5,6}, repeat=2))\n",
        "Omega = set(Omega)\n",
        "Omega"
      ],
      "metadata": {
        "colab": {
          "base_uri": "https://localhost:8080/"
        },
        "id": "X-kMPxCbC0UM",
        "outputId": "b0edb542-f9bd-4f46-ef75-e4dd49c6f02a"
      },
      "execution_count": null,
      "outputs": [
        {
          "output_type": "execute_result",
          "data": {
            "text/plain": [
              "{(1, 1),\n",
              " (1, 2),\n",
              " (1, 3),\n",
              " (1, 4),\n",
              " (1, 5),\n",
              " (1, 6),\n",
              " (2, 1),\n",
              " (2, 2),\n",
              " (2, 3),\n",
              " (2, 4),\n",
              " (2, 5),\n",
              " (2, 6),\n",
              " (3, 1),\n",
              " (3, 2),\n",
              " (3, 3),\n",
              " (3, 4),\n",
              " (3, 5),\n",
              " (3, 6),\n",
              " (4, 1),\n",
              " (4, 2),\n",
              " (4, 3),\n",
              " (4, 4),\n",
              " (4, 5),\n",
              " (4, 6),\n",
              " (5, 1),\n",
              " (5, 2),\n",
              " (5, 3),\n",
              " (5, 4),\n",
              " (5, 5),\n",
              " (5, 6),\n",
              " (6, 1),\n",
              " (6, 2),\n",
              " (6, 3),\n",
              " (6, 4),\n",
              " (6, 5),\n",
              " (6, 6)}"
            ]
          },
          "metadata": {},
          "execution_count": 3
        }
      ]
    },
    {
      "cell_type": "code",
      "source": [
        "#Vamos a crear una función para calcular probabilidades\n",
        "def s(n):\n",
        "  S = {o for o in Omega if (o)}"
      ],
      "metadata": {
        "id": "tCtoFudILKPD"
      },
      "execution_count": null,
      "outputs": []
    },
    {
      "cell_type": "markdown",
      "source": [
        "La probabilidad de un evento, se calcula como\n",
        "$$\\mathbb{P}(A)=\\frac{\\#A}{\\#Omega}.$$\n",
        "\n",
        "Consideremos el sig evento\n",
        "-$5$: La suma de los resultados de la cara sea 7"
      ],
      "metadata": {
        "id": "Dvzc_1s_Q41X"
      }
    },
    {
      "cell_type": "code",
      "source": [
        "S = {o for o in Omega if (o[0]+o[1]==7)}\n",
        "S"
      ],
      "metadata": {
        "colab": {
          "base_uri": "https://localhost:8080/"
        },
        "id": "hS-zYApLRyYI",
        "outputId": "f481bcc4-ee7c-473f-ed0b-687d2b1e778c"
      },
      "execution_count": null,
      "outputs": [
        {
          "output_type": "execute_result",
          "data": {
            "text/plain": [
              "{(1, 6), (2, 5), (3, 4), (4, 3), (5, 2), (6, 1)}"
            ]
          },
          "metadata": {},
          "execution_count": 4
        }
      ]
    },
    {
      "cell_type": "code",
      "source": [
        "p = len(S)/len(Omega)\n",
        "print(f\"la probabilidad de que la suma sea 7 es: {p}\")"
      ],
      "metadata": {
        "colab": {
          "base_uri": "https://localhost:8080/"
        },
        "id": "3XtUYsJUSe1c",
        "outputId": "a817abec-0d05-4ba9-eb97-b79e80a1479f"
      },
      "execution_count": null,
      "outputs": [
        {
          "output_type": "stream",
          "name": "stdout",
          "text": [
            "la probabilidad de que la suma sea 7 es: 0.16666666666666666\n"
          ]
        }
      ]
    },
    {
      "cell_type": "code",
      "source": [
        "from fractions import Fraction\n",
        "Fraction (2,5)"
      ],
      "metadata": {
        "colab": {
          "base_uri": "https://localhost:8080/"
        },
        "id": "SQNHHlbsSuSO",
        "outputId": "00250c30-6b68-4e0c-fd78-30562769e890"
      },
      "execution_count": null,
      "outputs": [
        {
          "output_type": "execute_result",
          "data": {
            "text/plain": [
              "Fraction(2, 5)"
            ]
          },
          "metadata": {},
          "execution_count": 6
        }
      ]
    },
    {
      "cell_type": "code",
      "source": [
        "#Vamos a crear una función para crear probabilidades\n",
        "def S(n):\n",
        "  S = {o for o in Omega if (o[0]+o[1])==n}\n",
        "  return S"
      ],
      "metadata": {
        "id": "hAsYdaTZS0UZ"
      },
      "execution_count": null,
      "outputs": []
    },
    {
      "cell_type": "code",
      "source": [
        "S(2)"
      ],
      "metadata": {
        "colab": {
          "base_uri": "https://localhost:8080/"
        },
        "id": "N2Pzn8oBTJWv",
        "outputId": "983795a8-155e-47ac-e759-a9d2e83dd53a"
      },
      "execution_count": null,
      "outputs": [
        {
          "output_type": "execute_result",
          "data": {
            "text/plain": [
              "{(1, 1)}"
            ]
          },
          "metadata": {},
          "execution_count": 8
        }
      ]
    },
    {
      "cell_type": "code",
      "source": [
        "S(3)"
      ],
      "metadata": {
        "colab": {
          "base_uri": "https://localhost:8080/"
        },
        "id": "JVuk_O-eTMF9",
        "outputId": "cc1d08e5-df72-4520-a989-5dd553c0ea15"
      },
      "execution_count": null,
      "outputs": [
        {
          "output_type": "execute_result",
          "data": {
            "text/plain": [
              "{(1, 2), (2, 1)}"
            ]
          },
          "metadata": {},
          "execution_count": 9
        }
      ]
    },
    {
      "cell_type": "code",
      "source": [
        "#Vamos a crear la función de probabilidad\n",
        "def P(A, Omega):\n",
        "  return Fraction(len(A), len(Omega))"
      ],
      "metadata": {
        "id": "TVoP-KqQTOua"
      },
      "execution_count": null,
      "outputs": []
    },
    {
      "cell_type": "code",
      "source": [
        "P(S(7),Omega)"
      ],
      "metadata": {
        "colab": {
          "base_uri": "https://localhost:8080/"
        },
        "id": "e5iB27NpT__g",
        "outputId": "fbbb397e-45c2-4e3b-d171-c372017a3161"
      },
      "execution_count": null,
      "outputs": [
        {
          "output_type": "execute_result",
          "data": {
            "text/plain": [
              "Fraction(1, 6)"
            ]
          },
          "metadata": {},
          "execution_count": 17
        }
      ]
    },
    {
      "cell_type": "markdown",
      "source": [
        "##Matrices y operaciones"
      ],
      "metadata": {
        "id": "8EPnUXyvUo0R"
      }
    },
    {
      "cell_type": "code",
      "source": [
        "import numpy as np\n",
        "class Matriz:\n",
        "  def __init__(self, renglones, columnas):\n",
        "    self.renglones = renglones\n",
        "    self.columnas = columnas\n",
        "    self.coef = np.zeros((renglones, columnas))\n",
        "  def coeficientes(self):\n",
        "    print(f\"Ingresa los coeficientes de la Matriz {self.renglones}x{self.columnas}\")\n",
        "    for i in range(self.renglones):\n",
        "      self.coef[i] = list(map(float, input().split()))\n",
        "\n",
        "  def mostrar_matriz(self):\n",
        "    print (self.coef)\n"
      ],
      "metadata": {
        "id": "2FwLxGkQUtwi"
      },
      "execution_count": null,
      "outputs": []
    },
    {
      "cell_type": "code",
      "source": [
        "mat = np.array([25,45,67,8,0,1,1,5,18]).reshape(3,3)\n",
        "np.linalg.det(mat)"
      ],
      "metadata": {
        "colab": {
          "base_uri": "https://localhost:8080/"
        },
        "id": "FXS5_XlqWfge",
        "outputId": "2542662f-2e82-4c07-b117-4f1b83fb2518"
      },
      "execution_count": null,
      "outputs": [
        {
          "output_type": "execute_result",
          "data": {
            "text/plain": [
              "-3879.999999999998"
            ]
          },
          "metadata": {},
          "execution_count": 19
        }
      ]
    }
  ]
}