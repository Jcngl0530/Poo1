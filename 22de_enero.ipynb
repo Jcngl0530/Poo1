{
  "nbformat": 4,
  "nbformat_minor": 0,
  "metadata": {
    "colab": {
      "provenance": []
    },
    "kernelspec": {
      "name": "python3",
      "display_name": "Python 3"
    },
    "language_info": {
      "name": "python"
    }
  },
  "cells": [
    {
      "cell_type": "markdown",
      "source": [
        "#Introducción a Python\n",
        "Python es un lenguaje de programación ampliamente utilizado en las aplicaciones web, el desarrollo de software, la ciencia de datos y el machine learning (ML). Los desarrolladores utilizan Python porque es eficiente y fácil de aprender, además de que se puede ejecutar en muchas plataformas diferentes.\n",
        "##Que veremos hoy?\n",
        "1. Objetos\n",
        "2. Variables\n",
        "3. Ejemplo\n",
        "\n"
      ],
      "metadata": {
        "id": "P5ELR_BosWHy"
      }
    },
    {
      "cell_type": "markdown",
      "source": [
        "**Nota: en este procesador de texto se puede escribir en html y en latex**\n",
        "Por ejemplo, vamos a escribir la ecuación mas hermosa de todas: $$ e^{i\\pi} +1=0 $$\n",
        "Otro ejemplo:\n",
        "\\[\n",
        "\\begin{bmatrix}\n",
        "a & b & c \\\\\n",
        "d & e & f \\\\\n",
        "g & h & i\n",
        "\\end{bmatrix}\n",
        "\\]"
      ],
      "metadata": {
        "id": "B89-fApwt9qQ"
      }
    },
    {
      "cell_type": "markdown",
      "source": [
        "###Objetos en Python:\n",
        "\n",
        "1.   int y float\n",
        "2.   str\n",
        "3.   Conjuntos y Listas\n",
        "\n",
        "**La función `print`y la función `type`**\n",
        "\n"
      ],
      "metadata": {
        "id": "yD_uv1Kz6t2r"
      }
    },
    {
      "cell_type": "code",
      "source": [
        "print (\"cesar\")\n",
        "print (\"Hola mundo\")\n",
        "\n"
      ],
      "metadata": {
        "id": "kiKHVUFzs5Yy",
        "colab": {
          "base_uri": "https://localhost:8080/"
        },
        "outputId": "6c61726b-b7c7-43b2-f5f4-7c716570bc72"
      },
      "execution_count": 9,
      "outputs": [
        {
          "output_type": "stream",
          "name": "stdout",
          "text": [
            "cesar\n",
            "Hola mundo\n"
          ]
        }
      ]
    },
    {
      "cell_type": "markdown",
      "source": [
        "### Operaciones básicas en int o float\n",
        "\n",
        "\n",
        "*   $+, -$ Suma y Resta.\n",
        "*   $+,/,**$ Multiplicación, dividir y potenciación.\n",
        "*   % Operación modular.\n",
        "*   $ // $ División al piso.\n",
        "\n",
        "\n",
        "\n",
        "\n"
      ],
      "metadata": {
        "id": "1TfZaYsUEdec"
      }
    },
    {
      "cell_type": "markdown",
      "source": [
        "**Creación de Variables**\n",
        "\n",
        "nombre = objeto"
      ],
      "metadata": {
        "id": "OXq6lJauFiCg"
      }
    },
    {
      "cell_type": "code",
      "source": [
        "# Vamos a crear variables\n",
        "x = 7\n",
        "y = 3\n",
        "# Operaciones\n",
        "print(f\"La suma entre {x} y {y} es {x+y}\")\n",
        "print(f\"La potenciación entre {x} y {y} es {x**y}\")\n",
        "print(f\"El residuo entre {x} y {y} es {x%y}\")\n",
        "print(f\"La división al piso entre {x} y {y} es {x//y}\")\n",
        "\n"
      ],
      "metadata": {
        "colab": {
          "base_uri": "https://localhost:8080/"
        },
        "id": "TjxgxXedGWRG",
        "outputId": "487bf8a4-38e5-4e28-d415-5a1af0fd57b6"
      },
      "execution_count": 14,
      "outputs": [
        {
          "output_type": "stream",
          "name": "stdout",
          "text": [
            "La suma entre 7 y 3 es 10\n",
            "La potenciación entre 7 y 3 es 343\n",
            "El residuo entre 7 y 3 es 1\n",
            "La división al piso entre 7 y 3 es 2\n"
          ]
        }
      ]
    },
    {
      "cell_type": "code",
      "source": [
        "# La función type nos dice el tipo de objeto\n",
        "type(x/y), type(\"Cesar\")\n",
        "(float, str)"
      ],
      "metadata": {
        "colab": {
          "base_uri": "https://localhost:8080/"
        },
        "id": "ODc1sBz6I85K",
        "outputId": "2e1cd915-d76b-41a2-97c2-b8c196c987ac"
      },
      "execution_count": 15,
      "outputs": [
        {
          "output_type": "execute_result",
          "data": {
            "text/plain": [
              "(float, str)"
            ]
          },
          "metadata": {},
          "execution_count": 15
        }
      ]
    }
  ]
}