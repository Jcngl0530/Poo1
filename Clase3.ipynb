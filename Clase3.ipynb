{
  "nbformat": 4,
  "nbformat_minor": 0,
  "metadata": {
    "colab": {
      "provenance": []
    },
    "kernelspec": {
      "name": "python3",
      "display_name": "Python 3"
    },
    "language_info": {
      "name": "python"
    }
  },
  "cells": [
    {
      "cell_type": "markdown",
      "source": [
        "#Listas\n",
        "range(a,b)\n",
        "\n",
        "$a\\geq0$\n",
        "\n",
        "$a\\le b$"
      ],
      "metadata": {
        "id": "BOcABLnHskQ4"
      }
    },
    {
      "cell_type": "code",
      "execution_count": null,
      "metadata": {
        "id": "6xb9SEEHrps6",
        "colab": {
          "base_uri": "https://localhost:8080/"
        },
        "outputId": "09828fc5-71d0-42d3-e749-a1037da7574c"
      },
      "outputs": [
        {
          "output_type": "execute_result",
          "data": {
            "text/plain": [
              "range"
            ]
          },
          "metadata": {},
          "execution_count": 11
        }
      ],
      "source": [
        "range(10)\n",
        "type(range(10))"
      ]
    },
    {
      "cell_type": "code",
      "source": [
        "for i in range(10):\n",
        " print(i)\n"
      ],
      "metadata": {
        "colab": {
          "base_uri": "https://localhost:8080/"
        },
        "id": "zY6APjKg1bBy",
        "outputId": "12326efd-bc73-4fbe-8e3f-bb91842ef2d5"
      },
      "execution_count": null,
      "outputs": [
        {
          "output_type": "stream",
          "name": "stdout",
          "text": [
            "0\n",
            "1\n",
            "2\n",
            "3\n",
            "4\n",
            "5\n",
            "6\n",
            "7\n",
            "8\n",
            "9\n"
          ]
        }
      ]
    },
    {
      "cell_type": "markdown",
      "source": [
        "#Ingresos"
      ],
      "metadata": {
        "id": "19p1S_p1JwJp"
      }
    },
    {
      "cell_type": "code",
      "source": [
        "[19]  Ceci= []"
      ],
      "metadata": {
        "colab": {
          "base_uri": "https://localhost:8080/",
          "height": 106
        },
        "id": "61ebcHXoI9SS",
        "outputId": "78685723-0bcb-454a-bffd-9d9560ebc5ce"
      },
      "execution_count": null,
      "outputs": [
        {
          "output_type": "error",
          "ename": "SyntaxError",
          "evalue": "invalid syntax (<ipython-input-2-cbb0998e54ee>, line 1)",
          "traceback": [
            "\u001b[0;36m  File \u001b[0;32m\"<ipython-input-2-cbb0998e54ee>\"\u001b[0;36m, line \u001b[0;32m1\u001b[0m\n\u001b[0;31m    [19]  Ceci= []\u001b[0m\n\u001b[0m          ^\u001b[0m\n\u001b[0;31mSyntaxError\u001b[0m\u001b[0;31m:\u001b[0m invalid syntax\n"
          ]
        }
      ]
    },
    {
      "cell_type": "code",
      "source": [
        "[21] Ceci.insert(1, )"
      ],
      "metadata": {
        "id": "xYSTEHT5J8pH"
      },
      "execution_count": null,
      "outputs": []
    }
  ]
}