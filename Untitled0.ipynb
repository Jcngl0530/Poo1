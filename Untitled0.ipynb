{
  "nbformat": 4,
  "nbformat_minor": 0,
  "metadata": {
    "colab": {
      "provenance": []
    },
    "kernelspec": {
      "name": "python3",
      "display_name": "Python 3"
    },
    "language_info": {
      "name": "python"
    }
  },
  "cells": [
    {
      "cell_type": "code",
      "execution_count": null,
      "metadata": {
        "id": "SKBo2mDSbyMZ"
      },
      "outputs": [],
      "source": []
    },
    {
      "cell_type": "markdown",
      "source": [
        "#Conjuntos y Listas\n",
        "-Conjuntos finitos\n",
        "$$\\{o_1, o_2, \\dots, o_n\\}$$\n",
        "\n",
        "-Listas finitas\n",
        "En Python, existe la función range(a, b) donde a,b>0\n"
      ],
      "metadata": {
        "id": "yttpTtZ5cpAP"
      }
    },
    {
      "cell_type": "code",
      "source": [
        "range(10)"
      ],
      "metadata": {
        "colab": {
          "base_uri": "https://localhost:8080/"
        },
        "id": "yAfnamHMfjsl",
        "outputId": "2607cf3d-bd89-4cfb-94c5-acb82d1b1eaf"
      },
      "execution_count": 1,
      "outputs": [
        {
          "output_type": "execute_result",
          "data": {
            "text/plain": [
              "range(0, 10)"
            ]
          },
          "metadata": {},
          "execution_count": 1
        }
      ]
    },
    {
      "cell_type": "markdown",
      "source": [
        "¿Como puedo ver los elementos de este generador de indices?"
      ],
      "metadata": {
        "id": "KJ1uDFAPf4Vf"
      }
    },
    {
      "cell_type": "code",
      "source": [
        "for i in range(10) : print(i)"
      ],
      "metadata": {
        "colab": {
          "base_uri": "https://localhost:8080/"
        },
        "id": "w9vYdHx0gGhE",
        "outputId": "c29191fc-72bc-4d2f-fb20-e524bc14cb95"
      },
      "execution_count": 2,
      "outputs": [
        {
          "output_type": "stream",
          "name": "stdout",
          "text": [
            "0\n",
            "1\n",
            "2\n",
            "3\n",
            "4\n",
            "5\n",
            "6\n",
            "7\n",
            "8\n",
            "9\n"
          ]
        }
      ]
    },
    {
      "cell_type": "markdown",
      "source": [
        "#Vamos a constuir dos conjuntos"
      ],
      "metadata": {
        "id": "-ZhhcuC5hhvx"
      }
    },
    {
      "cell_type": "code",
      "source": [
        "Pares = {i for i in range(21) if i%2==0}\n",
        "print (f\"Pares:{Pares}\")\n",
        "Impares = {i for i in range(21) if i%2==1}\n",
        "print(f\"impares:{Impares}\")"
      ],
      "metadata": {
        "colab": {
          "base_uri": "https://localhost:8080/"
        },
        "id": "0jHbx7Dzh4yy",
        "outputId": "73aed852-374b-48cf-e475-7053dcd574b7"
      },
      "execution_count": 4,
      "outputs": [
        {
          "output_type": "stream",
          "name": "stdout",
          "text": [
            "Pares:{0, 2, 4, 6, 8, 10, 12, 14, 16, 18, 20}\n",
            "impares:{1, 3, 5, 7, 9, 11, 13, 15, 17, 19}\n"
          ]
        }
      ]
    },
    {
      "cell_type": "markdown",
      "source": [
        "#Los objetos en Python tienen atributos"
      ],
      "metadata": {
        "id": "nxx-O9mikQkE"
      }
    },
    {
      "cell_type": "code",
      "source": [
        "Pares.intersection(Impares) #El conjunto vacio"
      ],
      "metadata": {
        "colab": {
          "base_uri": "https://localhost:8080/"
        },
        "id": "oWUWrSXKkvlr",
        "outputId": "f676c3ac-5836-4537-dee1-4b3b2a0c3493"
      },
      "execution_count": 5,
      "outputs": [
        {
          "output_type": "execute_result",
          "data": {
            "text/plain": [
              "set()"
            ]
          },
          "metadata": {},
          "execution_count": 5
        }
      ]
    },
    {
      "cell_type": "code",
      "source": [
        "Pares.union(Impares)"
      ],
      "metadata": {
        "colab": {
          "base_uri": "https://localhost:8080/"
        },
        "id": "gUZFzdipk8Nl",
        "outputId": "b1023374-b901-4fde-8558-c2d08e65c5b5"
      },
      "execution_count": 6,
      "outputs": [
        {
          "output_type": "execute_result",
          "data": {
            "text/plain": [
              "{0, 1, 2, 3, 4, 5, 6, 7, 8, 9, 10, 11, 12, 13, 14, 15, 16, 17, 18, 19, 20}"
            ]
          },
          "metadata": {},
          "execution_count": 6
        }
      ]
    },
    {
      "cell_type": "code",
      "source": [
        "C = {17, 7, 5, 7, 9, 11, 13, 21}\n",
        "C, type(C)"
      ],
      "metadata": {
        "colab": {
          "base_uri": "https://localhost:8080/"
        },
        "id": "ME75JCDonb4N",
        "outputId": "89f933ed-b738-40b2-a782-a86f59660fa0"
      },
      "execution_count": 10,
      "outputs": [
        {
          "output_type": "execute_result",
          "data": {
            "text/plain": [
              "({5, 7, 9, 11, 13, 17, 21}, set)"
            ]
          },
          "metadata": {},
          "execution_count": 10
        }
      ]
    },
    {
      "cell_type": "code",
      "source": [
        "Impares.difference(C)"
      ],
      "metadata": {
        "colab": {
          "base_uri": "https://localhost:8080/"
        },
        "id": "8A4vFGUZlaHt",
        "outputId": "7d6d1314-a842-4125-fefc-f33da726e262"
      },
      "execution_count": 11,
      "outputs": [
        {
          "output_type": "execute_result",
          "data": {
            "text/plain": [
              "{1, 3, 15, 19}"
            ]
          },
          "metadata": {},
          "execution_count": 11
        }
      ]
    },
    {
      "cell_type": "markdown",
      "source": [
        "#Listas"
      ],
      "metadata": {
        "id": "Sb57GzMzmOez"
      }
    },
    {
      "cell_type": "code",
      "source": [
        "Lista_pares =list(Pares)\n",
        "Lista_pares"
      ],
      "metadata": {
        "colab": {
          "base_uri": "https://localhost:8080/"
        },
        "id": "3gD-3DvamHkz",
        "outputId": "a8098bea-3fd8-4618-a1e1-e1e06f77da9f"
      },
      "execution_count": 8,
      "outputs": [
        {
          "output_type": "execute_result",
          "data": {
            "text/plain": [
              "[0, 2, 4, 6, 8, 10, 12, 14, 16, 18, 20]"
            ]
          },
          "metadata": {},
          "execution_count": 8
        }
      ]
    }
  ]
}