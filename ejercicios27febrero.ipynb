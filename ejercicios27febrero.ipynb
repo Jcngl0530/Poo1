{
  "nbformat": 4,
  "nbformat_minor": 0,
  "metadata": {
    "colab": {
      "provenance": []
    },
    "kernelspec": {
      "name": "python3",
      "display_name": "Python 3"
    },
    "language_info": {
      "name": "python"
    }
  },
  "cells": [
    {
      "cell_type": "code",
      "execution_count": null,
      "metadata": {
        "colab": {
          "base_uri": "https://localhost:8080/"
        },
        "id": "XZ-U1CFYALsg",
        "outputId": "2830082f-003a-4fa1-c0d8-eeadd7f352eb"
      },
      "outputs": [
        {
          "output_type": "stream",
          "name": "stdout",
          "text": [
            "Hola Mundo\n"
          ]
        }
      ],
      "source": [
        "print (\"Hola Mundo\")"
      ]
    },
    {
      "cell_type": "code",
      "source": [
        "fecha = (\"27 de febrero\")\n",
        "fecha"
      ],
      "metadata": {
        "colab": {
          "base_uri": "https://localhost:8080/",
          "height": 35
        },
        "id": "BIBsUE5xAQqW",
        "outputId": "bd5dd4b9-b609-4787-c4d4-2393c8797f61"
      },
      "execution_count": null,
      "outputs": [
        {
          "output_type": "execute_result",
          "data": {
            "text/plain": [
              "'27 de febrero'"
            ],
            "application/vnd.google.colaboratory.intrinsic+json": {
              "type": "string"
            }
          },
          "metadata": {},
          "execution_count": 3
        }
      ]
    },
    {
      "cell_type": "code",
      "source": [
        "numero = int(input(\"Elije un numero: \"))\n",
        "numero1 = numero*2\n",
        "numero1"
      ],
      "metadata": {
        "colab": {
          "base_uri": "https://localhost:8080/"
        },
        "id": "AzBAvsDIAVoQ",
        "outputId": "5f6e77fc-8dcd-4b35-ac91-2732dec4ee20"
      },
      "execution_count": null,
      "outputs": [
        {
          "name": "stdout",
          "output_type": "stream",
          "text": [
            "Elije un numero: 4\n"
          ]
        },
        {
          "output_type": "execute_result",
          "data": {
            "text/plain": [
              "8"
            ]
          },
          "metadata": {},
          "execution_count": 4
        }
      ]
    },
    {
      "cell_type": "code",
      "source": [
        "numero1 = int(input(\"Elije un numero: \"))\n",
        "numero2 = int(input(\"Elije otro numero: \"))\n",
        "numero = numero1+numero2\n",
        "numero"
      ],
      "metadata": {
        "colab": {
          "base_uri": "https://localhost:8080/"
        },
        "id": "dkyNgsZQAZ0L",
        "outputId": "4d8c2bd7-3ee2-4f3b-cfa7-60ad97810d02"
      },
      "execution_count": null,
      "outputs": [
        {
          "name": "stdout",
          "output_type": "stream",
          "text": [
            "Elije un numero: 5\n",
            "Elije otro numero: 6\n"
          ]
        },
        {
          "output_type": "execute_result",
          "data": {
            "text/plain": [
              "11"
            ]
          },
          "metadata": {},
          "execution_count": 5
        }
      ]
    },
    {
      "cell_type": "code",
      "source": [
        "numero = [1,2,3,4,5]\n",
        "primernumero = numero[0]\n",
        "segundonumero = numero[4]\n",
        "print(f\"El primer numero es: {primernumero}\")\n",
        "print(f\"El segundo numero es: {segundonumero}\")"
      ],
      "metadata": {
        "colab": {
          "base_uri": "https://localhost:8080/"
        },
        "id": "alxQmbTnAbW1",
        "outputId": "429c7c9c-0e21-4d27-ebca-a926e0b42f13"
      },
      "execution_count": null,
      "outputs": [
        {
          "output_type": "stream",
          "name": "stdout",
          "text": [
            "El primer numero es: 1\n",
            "El segundo numero es: 5\n"
          ]
        }
      ]
    },
    {
      "cell_type": "code",
      "source": [
        "Pares = {i for i in range(21) if i%2==0}\n",
        "print(f\"Pares:{Pares}\")\n",
        "Impares = {i for i in range(21) if i%2==1}\n",
        "print(f\"impares:{Impares}\")"
      ],
      "metadata": {
        "colab": {
          "base_uri": "https://localhost:8080/"
        },
        "id": "pWlNylepAiwD",
        "outputId": "f8d6ea5b-442e-4255-8160-3f3b6a7c0536"
      },
      "execution_count": null,
      "outputs": [
        {
          "output_type": "stream",
          "name": "stdout",
          "text": [
            "Pares:{0, 2, 4, 6, 8, 10, 12, 14, 16, 18, 20}\n",
            "impares:{1, 3, 5, 7, 9, 11, 13, 15, 17, 19}\n"
          ]
        }
      ]
    },
    {
      "cell_type": "code",
      "source": [
        "for i in range(1, 11):\n",
        "    print(i)"
      ],
      "metadata": {
        "colab": {
          "base_uri": "https://localhost:8080/"
        },
        "id": "UCudx1P5BJOK",
        "outputId": "89a2b81e-35fb-466e-99d8-deb211c36bca"
      },
      "execution_count": null,
      "outputs": [
        {
          "output_type": "stream",
          "name": "stdout",
          "text": [
            "1\n",
            "2\n",
            "3\n",
            "4\n",
            "5\n",
            "6\n",
            "7\n",
            "8\n",
            "9\n",
            "10\n"
          ]
        }
      ]
    },
    {
      "cell_type": "code",
      "source": [
        "suma = 0\n",
        "for i in range(1, 101):\n",
        "    suma += i\n",
        "print(suma)"
      ],
      "metadata": {
        "colab": {
          "base_uri": "https://localhost:8080/"
        },
        "id": "oAgOYuemByzL",
        "outputId": "4099dfd4-3d35-410a-f473-d6a067742c37"
      },
      "execution_count": null,
      "outputs": [
        {
          "output_type": "stream",
          "name": "stdout",
          "text": [
            "5050\n"
          ]
        }
      ]
    },
    {
      "cell_type": "code",
      "source": [
        "numero = int(input(\"Elije un numero: \"))\n",
        "print(numero)\n",
        "numero1 = numero*numero\n",
        "print(numero1)"
      ],
      "metadata": {
        "colab": {
          "base_uri": "https://localhost:8080/"
        },
        "id": "e31MLiTYD34r",
        "outputId": "8d187b6c-d2ac-43bf-e454-bda60e91257a"
      },
      "execution_count": null,
      "outputs": [
        {
          "output_type": "stream",
          "name": "stdout",
          "text": [
            "Elije un numero: 5\n",
            "5\n",
            "25\n"
          ]
        }
      ]
    },
    {
      "cell_type": "code",
      "source": [
        "def contar_vocales(cadena):\n",
        "    vocales = \"aeiouAEIOU\"\n",
        "    contador = 0\n",
        "    for letra in cadena:\n",
        "        if letra in vocales:\n",
        "            contador += 1\n",
        "    return contador\n",
        "texto = input(\"Ingresa una cadena de texto: \")\n",
        "cantidad_vocales = contar_vocales(texto)\n",
        "print(f\"La cadena tiene {cantidad_vocales} vocales.\")"
      ],
      "metadata": {
        "colab": {
          "base_uri": "https://localhost:8080/"
        },
        "id": "BOxG1XFPEoGv",
        "outputId": "3abe5044-d378-4ea4-8482-a0742b999d4f"
      },
      "execution_count": null,
      "outputs": [
        {
          "output_type": "stream",
          "name": "stdout",
          "text": [
            "Ingresa una cadena de texto: suma\n",
            "La cadena tiene 2 vocales.\n"
          ]
        }
      ]
    },
    {
      "cell_type": "code",
      "source": [
        "Pares = {i for i in range(11) if i%2==0}\n",
        "print(f\"Pares:{Pares}\")"
      ],
      "metadata": {
        "colab": {
          "base_uri": "https://localhost:8080/"
        },
        "id": "Sy69alBXFvJ_",
        "outputId": "0cb8e8ba-b1b9-467e-b3fa-546b7e0b9436"
      },
      "execution_count": null,
      "outputs": [
        {
          "output_type": "stream",
          "name": "stdout",
          "text": [
            "Pares:{0, 2, 4, 6, 8, 10}\n"
          ]
        }
      ]
    },
    {
      "cell_type": "code",
      "source": [
        " amigos = {\"Alvaro\":18,\n",
        "          \"Ceci\":19,\n",
        "          \"JC\":20,\n",
        "          \"Jon\":19,\n",
        "          \"Iker\":17\n",
        "          }\n",
        "edad = input(\"De quien quieres saber la edad: \")\n",
        "print(amigos[edad])\n"
      ],
      "metadata": {
        "colab": {
          "base_uri": "https://localhost:8080/"
        },
        "id": "piyosfv-F9Wa",
        "outputId": "f8356db5-40c2-4f41-edb4-a0506c4209b0"
      },
      "execution_count": 52,
      "outputs": [
        {
          "output_type": "stream",
          "name": "stdout",
          "text": [
            "De quien quieres saber la edad: JC\n",
            "20\n"
          ]
        }
      ]
    },
    {
      "cell_type": "code",
      "source": [
        "range(11)\n",
        "mayor = {i for i in range(11) if i-10==0}\n",
        "print(mayor)\n"
      ],
      "metadata": {
        "colab": {
          "base_uri": "https://localhost:8080/"
        },
        "id": "3RIgdhOPHPVT",
        "outputId": "15bca7b2-f9ba-4ef3-d8a0-805786158297"
      },
      "execution_count": null,
      "outputs": [
        {
          "output_type": "stream",
          "name": "stdout",
          "text": [
            "{10}\n"
          ]
        }
      ]
    },
    {
      "cell_type": "code",
      "source": [
        "print(\"Ingresa tus calificaciones\")\n",
        "calificacion1 = int(input(\"Ingresa tu primera calificacion: \"))\n",
        "calificacion2 = int(input(\"Ingresa tu segunda calificacion: \"))\n",
        "calificacion3 = int(input(\"Ingresa tu tercera calificacion: \"))\n",
        "calificacion4 = int(input(\"Ingresa tu cuarta calificacion: \"))\n",
        "calificacion5 = int(input(\"Ingresa tu quinta calificacion: \"))\n",
        "promedio = (calificacion1+calificacion2+calificacion3+calificacion4+calificacion5)/5\n",
        "print(f\"Tu promedio es: {promedio}\")"
      ],
      "metadata": {
        "colab": {
          "base_uri": "https://localhost:8080/"
        },
        "id": "9ZIq1DTDID0s",
        "outputId": "693fc3ee-ccd1-4a6e-b2d2-9d2e7a81052b"
      },
      "execution_count": null,
      "outputs": [
        {
          "name": "stdout",
          "output_type": "stream",
          "text": [
            "Ingresa tus calificaciones\n",
            "Ingresa tu primera calificacion: 85\n",
            "Ingresa tu segunda calificacion: 80\n"
          ]
        }
      ]
    },
    {
      "cell_type": "code",
      "source": [
        "def es_palindromo(palabra):\n",
        "    palabra = palabra.lower().replace(\" \", \"\")  # Convertir a minúsculas y eliminar espacios\n",
        "    return palabra == palabra[::-1]\n",
        "\n",
        "# Ejemplo de uso\n",
        "texto = input(\"Ingresa una palabra: \")\n",
        "if es_palindromo(texto):\n",
        "    print(\"Es un palíndromo.\")\n",
        "else:\n",
        "    print(\"No es un palíndromo.\")"
      ],
      "metadata": {
        "id": "JBsCPNHTIOSS",
        "colab": {
          "base_uri": "https://localhost:8080/"
        },
        "outputId": "d431149d-ef39-4bfe-f401-0a53474810d2"
      },
      "execution_count": 54,
      "outputs": [
        {
          "output_type": "stream",
          "name": "stdout",
          "text": [
            "Ingresa una palabra: zorra\n",
            "No es un palíndromo.\n"
          ]
        }
      ]
    },
    {
      "cell_type": "code",
      "source": [
        "numero1 = int(input(\"Ingresa un numero: \"))\n",
        "numero2 = int(input(\"Ingresa otro numero: \"))\n",
        "if numero1>numero2:\n",
        "    print(f\"El numero mayor es: {numero1}\")"
      ],
      "metadata": {
        "colab": {
          "base_uri": "https://localhost:8080/"
        },
        "id": "TzF-0lhlQ4SS",
        "outputId": "8198dbfe-6e7b-42cf-a031-b7282d0876b6"
      },
      "execution_count": 55,
      "outputs": [
        {
          "output_type": "stream",
          "name": "stdout",
          "text": [
            "Ingresa un numero: 97\n",
            "Ingresa otro numero: 84\n",
            "El numero mayor es: 97\n"
          ]
        }
      ]
    },
    {
      "cell_type": "code",
      "source": [
        "def tabla_multiplicar(numero):\n",
        "    for i in range(1, 11):\n",
        "        print(f\"{numero} x {i} = {numero * i}\")\n",
        "\n",
        "num = int(input(\"Ingresa un número: \"))\n",
        "print(f\"Tabla de multiplicar del {num}:\")\n",
        "tabla_multiplicar(num)"
      ],
      "metadata": {
        "colab": {
          "base_uri": "https://localhost:8080/"
        },
        "id": "oplgSq0SVX18",
        "outputId": "2bc06d5f-3923-4b7b-af6a-0e8f462d063e"
      },
      "execution_count": 56,
      "outputs": [
        {
          "output_type": "stream",
          "name": "stdout",
          "text": [
            "Ingresa un número: 8\n",
            "Tabla de multiplicar del 8:\n",
            "8 x 1 = 8\n",
            "8 x 2 = 16\n",
            "8 x 3 = 24\n",
            "8 x 4 = 32\n",
            "8 x 5 = 40\n",
            "8 x 6 = 48\n",
            "8 x 7 = 56\n",
            "8 x 8 = 64\n",
            "8 x 9 = 72\n",
            "8 x 10 = 80\n"
          ]
        }
      ]
    },
    {
      "cell_type": "code",
      "source": [
        "def es_primo(n):\n",
        "    if n < 2:\n",
        "        return False\n",
        "    for i in range(2, int(n**0.5) + 1):\n",
        "        if n % i == 0:\n",
        "            return False\n",
        "    return True\n",
        "\n",
        "def primos_hasta(limite):\n",
        "    return [num for num in range(2, limite + 1) if es_primo(num)]\n",
        "\n",
        "num = int(input(\"Ingresa un número: \"))\n",
        "print(f\"Números primos hasta {num}: {primos_hasta(num)}\")"
      ],
      "metadata": {
        "colab": {
          "base_uri": "https://localhost:8080/"
        },
        "id": "Cog0couKVcmg",
        "outputId": "86033952-4968-4de6-d516-d2613c3886ee"
      },
      "execution_count": 57,
      "outputs": [
        {
          "output_type": "stream",
          "name": "stdout",
          "text": [
            "Ingresa un número: 100\n",
            "Números primos hasta 100: [2, 3, 5, 7, 11, 13, 17, 19, 23, 29, 31, 37, 41, 43, 47, 53, 59, 61, 67, 71, 73, 79, 83, 89, 97]\n"
          ]
        }
      ]
    },
    {
      "cell_type": "code",
      "source": [
        "#no pude hacer la 19"
      ],
      "metadata": {
        "id": "mK8QFjZyXkkk"
      },
      "execution_count": null,
      "outputs": []
    },
    {
      "cell_type": "code",
      "source": [
        "import random\n",
        "numero = random.randint(1,100)\n",
        "adivina = int(input(\"Adivina el numero: \"))\n",
        "if numero == adivina:\n",
        "  print(\"Has acertado\")\n",
        "else:\n",
        "  print(\"Has fallado, el numero era \" + str(numero))\n",
        "\n"
      ],
      "metadata": {
        "colab": {
          "base_uri": "https://localhost:8080/"
        },
        "id": "NE5iUrOuWliO",
        "outputId": "77f2eef1-6ee1-4596-d59d-cdff236888c2"
      },
      "execution_count": 61,
      "outputs": [
        {
          "output_type": "stream",
          "name": "stdout",
          "text": [
            "Adivina el numero: 9\n",
            "Has fallado, el numero era 30\n"
          ]
        }
      ]
    }
  ]
}